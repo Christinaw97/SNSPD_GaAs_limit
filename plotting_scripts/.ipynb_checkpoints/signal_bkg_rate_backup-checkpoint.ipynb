{
 "cells": [
  {
   "cell_type": "code",
   "execution_count": 4,
   "metadata": {},
   "outputs": [],
   "source": [
    "import ROOT as rt\n",
    "import csv\n",
    "import re\n",
    "import sys\n",
    "import collections\n",
    "import os\n",
    "from collections import OrderedDict\n",
    "import uproot\n",
    "import pandas as pd\n",
    "\n",
    "import scipy\n",
    "import awkward\n",
    "import numpy as np\n",
    "import time\n",
    "import numba\n",
    "from numba import jit\n",
    "from matplotlib import pyplot as plt\n",
    "sys.path.append('/storage/af/user/christiw/login-1/christiw/DM/SNSPD_GaAs_limit/lib/')\n",
    "from histo_utilities import create_TH1D, create_TH2D, std_color_list, create_TGraph\n"
   ]
  },
  {
   "cell_type": "markdown",
   "metadata": {},
   "source": [
    "# load data from paper 1607.01009"
   ]
  },
  {
   "cell_type": "code",
   "execution_count": 5,
   "metadata": {},
   "outputs": [],
   "source": [
    "path = '/storage/af/user/christiw/login-1/christiw/DM/SNSPD_GaAs_limit/data/'\n",
    "\n",
    "ele_recoil = {}\n",
    "limits = {}\n",
    "\n",
    "ele_recoil['Fdm1_0p01GeV'] = np.genfromtxt(path + '1607.01009_Fig4_Fdm1_GaAs_0p01GeV.csv', delimiter = ',')\n",
    "ele_recoil['Fdm1_1GeV'] = np.genfromtxt(path + '1607.01009_Fig4_Fdm1_GaAs_1GeV.csv', delimiter = ',')\n",
    "ele_recoil['Fdmq-2_0p01GeV'] = np.genfromtxt(path + '1607.01009_Fig4_Fdmq-2_GaAs_0p01GeV.csv', delimiter = ',')\n",
    "ele_recoil['Fdmq-2_1GeV'] = np.genfromtxt(path + '1607.01009_Fig4_Fdmq-2_GaAs_1GeV.csv', delimiter = ',')\n",
    "xsec = 1e-37 #cm^2 assumption in paper for electron recoil histogram\n",
    "\n",
    "\n",
    "\n",
    "limits['Fdmq-2_1ph'] = np.genfromtxt(path + '1607.01009_Fig2_limit_Fdmq-2_GaAs_1ph.csv', delimiter = ',')\n",
    "limits['Fdm1_1ph'] = np.genfromtxt(path + '1607.01009_Fig2_limit_Fdm1_GaAs_1ph.csv', delimiter = ',')\n",
    "limits['Fdmq-2_2ph'] = np.genfromtxt(path + '1607.01009_Fig2_limit_Fdmq-2_GaAs_2ph.csv', delimiter = ',')\n",
    "limits['Fdm1_2ph'] = np.genfromtxt(path + '1607.01009_Fig2_limit_Fdm1_GaAs_2ph.csv', delimiter = ',')\n",
    "limits['Fdmq-2_XENON'] = np.genfromtxt(path + '1607.01009_Fig2_limit_Fdmq-2_XENON10_1kg-year.csv', delimiter = ',')\n",
    "limits['Fdm1_XENON'] = np.genfromtxt(path + '1607.01009_Fig2_limit_Fdm1_XENON10_1kg-year.csv', delimiter = ',')\n",
    "\n",
    "\n"
   ]
  },
  {
   "cell_type": "markdown",
   "metadata": {},
   "source": [
    "# free parameters\n",
    "\n"
   ]
  },
  {
   "cell_type": "code",
   "execution_count": 8,
   "metadata": {},
   "outputs": [],
   "source": [
    "### free parameters\n",
    "\n",
    "############################################\n",
    "### assumption used in paper 1607.01009\n",
    "############################################\n",
    "kg = 1\n",
    "year = 1\n",
    "light_yield = 1\n",
    "LCE = 1\n",
    "det_eff = 1\n",
    "DCR = 0.0\n",
    "\n",
    "\n",
    "############################################\n",
    "### more realistic assumptions\n",
    "############################################\n",
    "kg = 0.001\n",
    "year = 1./12\n",
    "light_yield = 0.2 #ph/eV\n",
    "LCE = 1\n",
    "det_eff = 0.01 \n",
    "DCR = 0.01 #cps"
   ]
  },
  {
   "cell_type": "markdown",
   "metadata": {},
   "source": [
    "# signal and bkg yield"
   ]
  },
  {
   "cell_type": "code",
   "execution_count": 15,
   "metadata": {},
   "outputs": [
    {
     "name": "stdout",
     "output_type": "stream",
     "text": [
      "sample     \t signal(1ph)     \t signal(2ph)     \t bkg(1ph)     \t bkg(2ph)\n",
      "Fdm1_0p01GeV \t 2.1685171793781096e-35 \t 1.1132171693996938e-34 \t 26297.28 262.97280000000006\n",
      "Fdm1_1GeV \t 5.151726260023622e-34 \t 8.714441311779758e-34 \t 26297.28 262.97280000000006\n",
      "Fdmq-2_0p01GeV \t 1.7866814122406528e-34 \t 4.067825460949557e-33 \t 26297.28 262.97280000000006\n",
      "Fdmq-2_1GeV \t 8.128562373460305e-33 \t 8.041835862682021e-32 \t 26297.28 262.97280000000006\n"
     ]
    }
   ],
   "source": [
    "signal = {}\n",
    "ph_num = {}\n",
    "signal_yield_1ph = {}\n",
    "signal_yield_2ph = {}\n",
    "bkg_1ph = {}\n",
    "bkg_2ph = {}\n",
    "print(\"sample     \\t signal(1ph)     \\t signal(2ph)     \\t bkg(1ph)     \\t bkg(2ph)\")\n",
    "for k, v in ele_recoil.items():\n",
    "    ph_num[k] = np.array(np.arange(1.5,len(v)+1, 1)) * light_yield\n",
    "    signal[k] = v[:, 1]*kg * year * LCE * det_eff # events per eV\n",
    "    \n",
    "    \n",
    "    # use this to reproduce limit from paper\n",
    "#     signal_yield_1ph[k] = np.sum(signal[k][ph_num[k]>=0])\n",
    "#     signal_yield_2ph[k] = np.sum(signal[k][ph_num[k]>= (6.5)])\n",
    "\n",
    "    signal_yield_1ph[k] = np.sum(signal[k][ph_num[k]>=1])\n",
    "    signal_yield_2ph[k] = np.sum(signal[k][ph_num[k]>=2])\n",
    "    bkg_1ph[k] = DCR * year * 3600 * 24 * 365.24\n",
    "    bkg_2ph[k] = DCR**2 * year * 3600 * 24 * 365.24\n",
    "\n",
    "\n",
    "    print(k, '\\t', 1/signal_yield_1ph[k]*3.6*xsec, '\\t', 1/signal_yield_2ph[k]*3.6*xsec, '\\t', bkg_1ph[k], bkg_2ph[k])\n",
    "\n",
    "#     print(k, '\\t', 1/signal_yield_1ph[k]*3.6*xsec, '\\t')\n",
    "#     print(k, '\\t', 1/signal_yield_1ph[k]*3.6*xsec, '\\t', 1/signal_yield_2ph[k]*3.6*xsec)\n",
    "\n",
    "\n"
   ]
  },
  {
   "cell_type": "code",
   "execution_count": null,
   "metadata": {},
   "outputs": [],
   "source": []
  }
 ],
 "metadata": {
  "kernelspec": {
   "display_name": "Python 3",
   "language": "python",
   "name": "python3"
  },
  "language_info": {
   "codemirror_mode": {
    "name": "ipython",
    "version": 3
   },
   "file_extension": ".py",
   "mimetype": "text/x-python",
   "name": "python",
   "nbconvert_exporter": "python",
   "pygments_lexer": "ipython3",
   "version": "3.6.8"
  }
 },
 "nbformat": 4,
 "nbformat_minor": 4
}
