{
 "cells": [
  {
   "cell_type": "code",
   "execution_count": 1,
   "metadata": {},
   "outputs": [
    {
     "name": "stdout",
     "output_type": "stream",
     "text": [
      "Welcome to JupyROOT 6.18/02\n"
     ]
    }
   ],
   "source": [
    "import dm_rates\n",
    "from dm_rates import read_f2, d_rate, rate\n",
    "\n",
    "# plot limits digitized from paper 1607.01009\n",
    "import ROOT as rt\n",
    "import csv\n",
    "import re\n",
    "import sys\n",
    "import collections\n",
    "import os\n",
    "from collections import OrderedDict\n",
    "import uproot\n",
    "import pandas as pd\n",
    "\n",
    "import scipy\n",
    "import awkward\n",
    "import numpy as np\n",
    "import time\n",
    "import numba\n",
    "from numba import jit\n",
    "from matplotlib import pyplot as plt\n",
    "sys.path.append('/storage/af/user/christiw/login-1/christiw/DM/SNSPD_GaAs_limit/lib/')\n",
    "from histo_utilities import create_TH1D, create_TH2D, std_color_list, create_TGraph\n",
    "\n",
    "import importlib\n",
    "importlib.reload(sys.modules['dm_rates'])\n",
    "from dm_rates import read_f2, d_rate, rate\n",
    "\n",
    "\n"
   ]
  },
  {
   "cell_type": "code",
   "execution_count": null,
   "metadata": {},
   "outputs": [],
   "source": []
  },
  {
   "cell_type": "code",
   "execution_count": null,
   "metadata": {},
   "outputs": [],
   "source": []
  },
  {
   "cell_type": "code",
   "execution_count": 2,
   "metadata": {},
   "outputs": [
    {
     "ename": "NameError",
     "evalue": "name 'mX' is not defined",
     "output_type": "error",
     "traceback": [
      "\u001b[0;31m---------------------------------------------------------------------------\u001b[0m",
      "\u001b[0;31mNameError\u001b[0m                                 Traceback (most recent call last)",
      "\u001b[0;32m<ipython-input-2-1b0a16323603>\u001b[0m in \u001b[0;36m<module>\u001b[0;34m\u001b[0m\n\u001b[0;32m----> 1\u001b[0;31m \u001b[0mE\u001b[0m\u001b[0;34m,\u001b[0m \u001b[0mdR\u001b[0m \u001b[0;34m=\u001b[0m \u001b[0md_rate\u001b[0m\u001b[0;34m(\u001b[0m\u001b[0mmX\u001b[0m\u001b[0;34m,\u001b[0m \u001b[0mf2\u001b[0m\u001b[0;34m,\u001b[0m \u001b[0mFDM_exp\u001b[0m\u001b[0;34m)\u001b[0m\u001b[0;34m\u001b[0m\u001b[0;34m\u001b[0m\u001b[0m\n\u001b[0m\u001b[1;32m      2\u001b[0m \u001b[0mf2\u001b[0m \u001b[0;34m=\u001b[0m \u001b[0mread_f2\u001b[0m\u001b[0;34m(\u001b[0m\u001b[0;34m'QEDark_GaAs_k8_100Ryd.npy'\u001b[0m\u001b[0;34m)\u001b[0m\u001b[0;34m\u001b[0m\u001b[0;34m\u001b[0m\u001b[0m\n\u001b[1;32m      3\u001b[0m \u001b[0mh\u001b[0m \u001b[0;34m=\u001b[0m \u001b[0;34m{\u001b[0m\u001b[0;34m}\u001b[0m\u001b[0;34m\u001b[0m\u001b[0;34m\u001b[0m\u001b[0m\n\u001b[1;32m      4\u001b[0m \u001b[0mrt\u001b[0m\u001b[0;34m.\u001b[0m\u001b[0mgStyle\u001b[0m\u001b[0;34m.\u001b[0m\u001b[0mSetOptStat\u001b[0m\u001b[0;34m(\u001b[0m\u001b[0;36m0\u001b[0m\u001b[0;34m)\u001b[0m\u001b[0;34m\u001b[0m\u001b[0;34m\u001b[0m\u001b[0m\n\u001b[1;32m      5\u001b[0m \u001b[0mleg\u001b[0m \u001b[0;34m=\u001b[0m \u001b[0mrt\u001b[0m\u001b[0;34m.\u001b[0m\u001b[0mTLegend\u001b[0m\u001b[0;34m(\u001b[0m\u001b[0;36m0.6\u001b[0m\u001b[0;34m,\u001b[0m\u001b[0;36m0.7\u001b[0m\u001b[0;34m,\u001b[0m\u001b[0;36m0.9\u001b[0m\u001b[0;34m,\u001b[0m\u001b[0;36m0.85\u001b[0m\u001b[0;34m)\u001b[0m\u001b[0;34m\u001b[0m\u001b[0;34m\u001b[0m\u001b[0m\n",
      "\u001b[0;31mNameError\u001b[0m: name 'mX' is not defined"
     ]
    }
   ],
   "source": [
    "f2 = read_f2('QEDark_GaAs_k8_100Ryd.npy')\n",
    "h = {}\n",
    "rt.gStyle.SetOptStat(0)\n",
    "leg = rt.TLegend(0.6,0.7,0.9,0.85)\n",
    "leg.SetBorderSize(0)\n",
    "c = rt.TCanvas('','',900,800)\n",
    "ph_num = {}\n",
    "i = 0\n",
    "name = ['10 MeV', '1 GeV']\n",
    "fdm_name = ['1', '1/q^2']\n",
    "\n",
    "for l, mX in enumerate([1e7, 1e9]):\n",
    "    for n, fdm in enumerate([0,2]):\n",
    "        k = '{}_{}'.format(mX, fdm)\n",
    "#         dm_rates.dE = 0.5\n",
    "        E, dR = d_rate(mX, f2, fdm)\n",
    "        print(E)\n",
    "        h[k] = create_TH1D( np.ones(1), axis_title=['energy [eV]', 'Events'], name=k, binning=E)\n",
    "        for j in range(h[k].GetNbinsX()):\n",
    "            h[k].SetBinContent(j+1, dR[j])\n",
    "        h[k].SetTitle('')\n",
    "        h[k].SetMaximum(1e5)\n",
    "        h[k].SetMinimum(1e-4)\n",
    "        h[k].GetXaxis().SetRangeUser(1.5,51.5)\n",
    "        h[k].GetXaxis().SetLimits(1.5,51.5)\n",
    "        h[k].SetLineColor(std_color_list[i])\n",
    "        h[k].SetLineWidth(2)\n",
    "        h[k].Rebin(10)\n",
    "        h[k].Scale(1./10)\n",
    "        h[k].SetMaximum(1e5)\n",
    "        h[k].SetMinimum(1e-4)\n",
    "        leg.AddEntry(h[k],'{}_{}'.format(name[l], fdm_name[n]))\n",
    "        h[k].Draw(\"same hist\")\n",
    "        i+= 1\n",
    "        print(k, h[k].Integral(), rate(mX, f2, fdm), np.sum(dR)*dm_rates.dE)\n",
    "\n",
    "leg.Draw()\n",
    "c.SetLogy()\n",
    "c.Draw()"
   ]
  },
  {
   "cell_type": "code",
   "execution_count": null,
   "metadata": {},
   "outputs": [],
   "source": []
  },
  {
   "cell_type": "code",
   "execution_count": null,
   "metadata": {},
   "outputs": [],
   "source": []
  },
  {
   "cell_type": "code",
   "execution_count": null,
   "metadata": {},
   "outputs": [],
   "source": []
  }
 ],
 "metadata": {
  "kernelspec": {
   "display_name": "Python 3",
   "language": "python",
   "name": "python3"
  },
  "language_info": {
   "codemirror_mode": {
    "name": "ipython",
    "version": 3
   },
   "file_extension": ".py",
   "mimetype": "text/x-python",
   "name": "python",
   "nbconvert_exporter": "python",
   "pygments_lexer": "ipython3",
   "version": "3.6.8"
  }
 },
 "nbformat": 4,
 "nbformat_minor": 4
}
